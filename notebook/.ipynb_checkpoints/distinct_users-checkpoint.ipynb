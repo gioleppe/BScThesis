{
 "cells": [
  {
   "cell_type": "markdown",
   "metadata": {},
   "source": [
    "We try to determine how many distinct users were active in certain periods of time.\n",
    "We start from June 2008 and then we analyze the whole 2008 summer from June to September."
   ]
  },
  {
   "cell_type": "code",
   "execution_count": 17,
   "metadata": {},
   "outputs": [
    {
     "name": "stdout",
     "output_type": "stream",
     "text": [
      "            date_time        lat         lon  uid\n",
      "0 2009-01-03 01:21:34  39.974294  116.399741  135\n",
      "1 2009-01-03 01:21:35  39.974292  116.399592  135\n",
      "2 2009-01-03 01:21:36  39.974309  116.399523  135\n",
      "3 2009-01-03 01:21:38  39.974320  116.399588  135\n",
      "4 2009-01-03 01:21:39  39.974365  116.399730  135\n"
     ]
    }
   ],
   "source": [
    "import pandas\n",
    "\n",
    "#we read our previously created csv\n",
    "fields = [\"date_time\", \"lat\", \"lon\", \"uid\"]\n",
    "df = pd.read_csv(\"/Users/tommasocolella/Desktop/Tesi/datasets/complete.csv\", \\\n",
    "                 usecols = fields, parse_dates = [\"date_time\"])\n",
    "print(df.head())"
   ]
  },
  {
   "cell_type": "code",
   "execution_count": 21,
   "metadata": {},
   "outputs": [],
   "source": [
    "#restricting to beijing area\n",
    "df_t = df[(df['lat'].between(39, 41.5)) & (df['lon'].between(115, 117.5))]\n",
    "\n",
    "#restricting to june 2008\n",
    "start_time = \"2008-06-01 00:00:00\"\n",
    "end_time = \"2008-06-30 23:59:00\"\n",
    "\n",
    "june = df_t[(df_t.date_time > start_time) & (df_t.date_time < end_time)]\n",
    "\n",
    "#now the whole summer\n",
    "end_time = \"2008-09-30 23:59:00\"\n",
    "\n",
    "summer = df_t[(df_t.date_time > start_time) & (df_t.date_time < end_time)]"
   ]
  },
  {
   "cell_type": "markdown",
   "metadata": {},
   "source": [
    "Now let's see how many unique users we have for june and the whole summer."
   ]
  },
  {
   "cell_type": "code",
   "execution_count": null,
   "metadata": {},
   "outputs": [],
   "source": [
    "print(june['uid'].nunique() + \" unique users for june 2008\")\n",
    "print(june['uid'].nunique() + \" unique user for summer 2008\")\n"
   ]
  }
 ],
 "metadata": {
  "kernelspec": {
   "display_name": "Python [conda env:skmob]",
   "language": "python",
   "name": "skmob"
  },
  "language_info": {
   "codemirror_mode": {
    "name": "ipython",
    "version": 3
   },
   "file_extension": ".py",
   "mimetype": "text/x-python",
   "name": "python",
   "nbconvert_exporter": "python",
   "pygments_lexer": "ipython3",
   "version": "3.7.7"
  }
 },
 "nbformat": 4,
 "nbformat_minor": 4
}
