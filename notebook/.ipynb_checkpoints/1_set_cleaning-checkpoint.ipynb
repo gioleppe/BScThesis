{
 "cells": [
  {
   "cell_type": "markdown",
   "metadata": {},
   "source": [
    "In this notebook we load all the dataset, add UIDs and save to disk after some cleaning on the data.\n",
    "All the paths are local since I didn't load the dataset on uav_station's gitlab"
   ]
  },
  {
   "cell_type": "code",
   "execution_count": 46,
   "metadata": {},
   "outputs": [],
   "source": [
    "import pandas as pd\n",
    "import pprint as pp\n",
    "import glob\n",
    "import os\n",
    "\n",
    "#path to Geolife's data\n",
    "path = \"Desktop/Tesi/datasets/Geolife Trajectories 1.3/Data/\"\n",
    "\n",
    "dirs = os.listdir(path)\n",
    "\n",
    "#this is needed because of spotlight files created by macos\n",
    "from sys import platform\n",
    "if (platform == \"darwin\"):\n",
    "    dirs.remove(\".DS_Store\")\n",
    "\n",
    "col_names = [\"lat\", \"lon\", \"?\", \"alt\", \"days\", \"date\", \"time\"]  \n",
    "\n",
    "df_all = pd.DataFrame()\n",
    "\n",
    "#for each user (dir) we concat all its trajectories and append to df_all dataframe\n",
    "for el in dirs:\n",
    "    df = pd.concat([pd.read_csv(f, skiprows = 6, names=col_names, parse_dates=[['date', 'time']]) \\\n",
    "                    for f in glob.glob(path + el + \"/Trajectory/*.plt\")])\n",
    "    df[\"uid\"] = el\n",
    "    df_all = df_all.append(df)\n",
    "    "
   ]
  },
  {
   "cell_type": "markdown",
   "metadata": {},
   "source": [
    "Now that we've collected all the data we proceed with some cleanup, then we show the results."
   ]
  },
  {
   "cell_type": "code",
   "execution_count": 47,
   "metadata": {},
   "outputs": [
    {
     "name": "stdout",
     "output_type": "stream",
     "text": [
      "            date_time        lat         lon  uid\n",
      "0 2009-01-03 01:21:34  39.974294  116.399741  135\n",
      "1 2009-01-03 01:21:35  39.974292  116.399592  135\n",
      "2 2009-01-03 01:21:36  39.974309  116.399523  135\n",
      "3 2009-01-03 01:21:38  39.974320  116.399588  135\n",
      "4 2009-01-03 01:21:39  39.974365  116.399730  135\n",
      "<class 'pandas.core.frame.DataFrame'>\n",
      "Int64Index: 24876978 entries, 0 to 32\n",
      "Data columns (total 4 columns):\n",
      " #   Column     Dtype         \n",
      "---  ------     -----         \n",
      " 0   date_time  datetime64[ns]\n",
      " 1   lat        float64       \n",
      " 2   lon        float64       \n",
      " 3   uid        object        \n",
      "dtypes: datetime64[ns](1), float64(2), object(1)\n",
      "memory usage: 949.0+ MB\n",
      "None\n"
     ]
    }
   ],
   "source": [
    "#we drop some columns in order to save space\n",
    "df_all = df_all.drop([\"?\", \"days\", \"alt\"], axis=1)\n",
    "\n",
    "print(df_all.head())\n",
    "print(df_all.info())"
   ]
  },
  {
   "cell_type": "markdown",
   "metadata": {},
   "source": [
    "Now we save the dataset (complete with UIDs) on the disk"
   ]
  },
  {
   "cell_type": "code",
   "execution_count": 48,
   "metadata": {},
   "outputs": [],
   "source": [
    "df_all.to_csv(\"Desktop/Tesi/datasets/complete.csv\")"
   ]
  }
 ],
 "metadata": {
  "kernelspec": {
   "display_name": "Python [conda env:skmob]",
   "language": "python",
   "name": "skmob"
  },
  "language_info": {
   "codemirror_mode": {
    "name": "ipython",
    "version": 3
   },
   "file_extension": ".py",
   "mimetype": "text/x-python",
   "name": "python",
   "nbconvert_exporter": "python",
   "pygments_lexer": "ipython3",
   "version": "3.7.7"
  }
 },
 "nbformat": 4,
 "nbformat_minor": 4
}
