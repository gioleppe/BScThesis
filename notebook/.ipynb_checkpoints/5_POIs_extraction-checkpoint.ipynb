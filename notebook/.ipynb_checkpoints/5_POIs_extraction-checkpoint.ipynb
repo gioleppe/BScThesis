{
 "cells": [
  {
   "cell_type": "markdown",
   "metadata": {},
   "source": [
    "## POIs extraction \n",
    "We extract meaningful POIs from openstreetmap for further scenario analysis by employing the osmnx library"
   ]
  },
  {
   "cell_type": "code",
   "execution_count": 3,
   "metadata": {},
   "outputs": [],
   "source": [
    "import pandas as pd\n",
    "import yaml\n",
    "import osmnx as ox\n",
    "\n",
    "with open(\"./conf.yaml\") as f:\n",
    "    conf = yaml.load(f, Loader = yaml.FullLoader)\n",
    "\n",
    "base_path = conf[\"base_path\"]\n",
    "data_path = conf[\"data_path\"]"
   ]
  },
  {
   "cell_type": "markdown",
   "metadata": {},
   "source": [
    "### Beijing subway stations for traffic fluxes monitoring\n",
    "We get subway stations in a 50km range from Beijing's city center"
   ]
  },
  {
   "cell_type": "code",
   "execution_count": 12,
   "metadata": {},
   "outputs": [
    {
     "name": "stdout",
     "output_type": "stream",
     "text": [
      "We have 331 stations in our range\n"
     ]
    }
   ],
   "source": [
    "tags = {\"station\":\"subway\"}\n",
    "\n",
    "gdf = ox.pois.pois_from_point((39.906217,116.3912757), tags, dist = 50000)\n",
    "#print(gdf.head())\n",
    "gdf_subway = gdf[(gdf.station == \"subway\") & (gdf.geometry.notna())]\n",
    "print(\"We have {:d} stations in our range\".format(len(gdf_subway)))"
   ]
  },
  {
   "cell_type": "code",
   "execution_count": 13,
   "metadata": {},
   "outputs": [
    {
     "name": "stdout",
     "output_type": "stream",
     "text": [
      "   name        lat         lon\n",
      "0    西四  39.922554  116.366718\n",
      "1    高井  39.947944  116.152161\n",
      "2   金台路  39.921706  116.472481\n",
      "3    枣营  39.942932  116.469014\n",
      "4  朝阳公园  39.931925  116.472418\n"
     ]
    }
   ],
   "source": [
    "#we build a dataframe with useful data only (coordinates)\n",
    "df = pd.DataFrame()\n",
    "df[\"name\"], df[\"lat\"], df[\"lon\"] = (gdf_subway.name.values, gdf_subway.geometry.centroid.y.values, gdf_subway.geometry.centroid.x.values)\n",
    "print(df.head())"
   ]
  },
  {
   "cell_type": "code",
   "execution_count": 10,
   "metadata": {},
   "outputs": [],
   "source": [
    "df.to_csv(data_path + \"beijing_subway_stations.csv\", index=False)"
   ]
  },
  {
   "cell_type": "markdown",
   "metadata": {},
   "source": [
    "### Squares, monuments et al.\n",
    "We extract different kinds of pois in order to model an urban poi-based data collection campaign. \n",
    "(We use the same 50km radius)"
   ]
  },
  {
   "cell_type": "code",
   "execution_count": 14,
   "metadata": {},
   "outputs": [
    {
     "name": "stderr",
     "output_type": "stream",
     "text": [
      "/Users/tommasocolella/opt/anaconda3/envs/skmob/lib/python3.7/site-packages/pandas/core/internals/blocks.py:867: VisibleDeprecationWarning: Creating an ndarray from ragged nested sequences (which is a list-or-tuple of lists-or-tuples-or ndarrays with different lengths or shapes) is deprecated. If you meant to do this, you must specify 'dtype=object' when creating the ndarray\n",
      "  arr_value = np.array(value)\n"
     ]
    },
    {
     "name": "stdout",
     "output_type": "stream",
     "text": [
      "We have 956 POIs in our range\n"
     ]
    }
   ],
   "source": [
    "tags = {\"place\":\"square\", \"historic\":\"monument\", \"shop\":\"mall\", \"railway\":\"station\", \"amenity\":\"bus_station\"}\n",
    "\n",
    "gdf = ox.pois.pois_from_point((39.906217,116.3912757), tags, dist = 50000)\n",
    "#print(gdf.head())\n",
    "print(\"We have {:d} POIs in our range\".format(len(gdf)))"
   ]
  },
  {
   "cell_type": "code",
   "execution_count": 25,
   "metadata": {},
   "outputs": [
    {
     "name": "stdout",
     "output_type": "stream",
     "text": [
      "  name       name:en        lat         lon\n",
      "0  北京东  Beijing East  39.901209  116.478643\n",
      "1   丰台       Fengtai  39.846962  116.282636\n",
      "2   北京       Beijing  39.902166  116.421012\n",
      "3   良乡    Liangxiang  39.740095  116.151421\n",
      "4   永乐        Yongle  39.651827  116.790273\n"
     ]
    }
   ],
   "source": [
    "#print(gdf)\n",
    "df = pd.DataFrame()\n",
    "df[\"name\"], df[\"name:en\"], df[\"lat\"], df[\"lon\"] = (gdf.name.values, gdf[\"name:en\"].values, gdf.geometry.centroid.y.values, gdf.geometry.centroid.x.values)\n",
    "print(df.head())"
   ]
  },
  {
   "cell_type": "code",
   "execution_count": 26,
   "metadata": {},
   "outputs": [],
   "source": [
    "df.to_csv(data_path+\"POIs.csv\", index = False)"
   ]
  },
  {
   "cell_type": "code",
   "execution_count": null,
   "metadata": {},
   "outputs": [],
   "source": []
  }
 ],
 "metadata": {
  "kernelspec": {
   "display_name": "Python [conda env:skmob]",
   "language": "python",
   "name": "skmob"
  },
  "language_info": {
   "codemirror_mode": {
    "name": "ipython",
    "version": 3
   },
   "file_extension": ".py",
   "mimetype": "text/x-python",
   "name": "python",
   "nbconvert_exporter": "python",
   "pygments_lexer": "ipython3",
   "version": "3.7.7"
  }
 },
 "nbformat": 4,
 "nbformat_minor": 4
}
